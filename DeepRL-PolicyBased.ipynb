{
 "cells": [
  {
   "cell_type": "markdown",
   "metadata": {},
   "source": [
    "# Install dependencies : Tensorflow, keras, keras-RL , open-AI Gym"
   ]
  },
  {
   "cell_type": "code",
   "execution_count": 1,
   "metadata": {},
   "outputs": [
    {
     "name": "stdout",
     "output_type": "stream",
     "text": [
      "Collecting tensorflow==2.3.0\n",
      "  Using cached tensorflow-2.3.0-cp37-cp37m-win_amd64.whl (342.5 MB)\n",
      "Requirement already satisfied: h5py<2.11.0,>=2.10.0 in c:\\users\\leilaa\\anaconda3\\lib\\site-packages (from tensorflow==2.3.0) (2.10.0)\n",
      "Requirement already satisfied: absl-py>=0.7.0 in c:\\users\\leilaa\\anaconda3\\lib\\site-packages (from tensorflow==2.3.0) (0.13.0)\n",
      "Requirement already satisfied: keras-preprocessing<1.2,>=1.1.1 in c:\\users\\leilaa\\anaconda3\\lib\\site-packages (from tensorflow==2.3.0) (1.1.2)\n",
      "Requirement already satisfied: protobuf>=3.9.2 in c:\\users\\leilaa\\anaconda3\\lib\\site-packages (from tensorflow==2.3.0) (3.17.3)\n",
      "Collecting tensorflow-estimator<2.4.0,>=2.3.0\n",
      "  Using cached tensorflow_estimator-2.3.0-py2.py3-none-any.whl (459 kB)\n",
      "Requirement already satisfied: wrapt>=1.11.1 in c:\\users\\leilaa\\anaconda3\\lib\\site-packages (from tensorflow==2.3.0) (1.12.1)\n",
      "Requirement already satisfied: wheel>=0.26 in c:\\users\\leilaa\\anaconda3\\lib\\site-packages (from tensorflow==2.3.0) (0.36.2)\n",
      "Collecting tensorboard<3,>=2.3.0\n",
      "  Downloading tensorboard-2.6.0-py3-none-any.whl (5.6 MB)\n",
      "Requirement already satisfied: six>=1.12.0 in c:\\users\\leilaa\\anaconda3\\lib\\site-packages (from tensorflow==2.3.0) (1.15.0)\n",
      "Requirement already satisfied: scipy==1.4.1 in c:\\users\\leilaa\\anaconda3\\lib\\site-packages (from tensorflow==2.3.0) (1.4.1)\n",
      "Requirement already satisfied: grpcio>=1.8.6 in c:\\users\\leilaa\\anaconda3\\lib\\site-packages (from tensorflow==2.3.0) (1.34.1)\n",
      "Requirement already satisfied: numpy<1.19.0,>=1.16.0 in c:\\users\\leilaa\\anaconda3\\lib\\site-packages (from tensorflow==2.3.0) (1.18.5)\n",
      "Collecting gast==0.3.3\n",
      "  Using cached gast-0.3.3-py2.py3-none-any.whl (9.7 kB)\n",
      "Requirement already satisfied: termcolor>=1.1.0 in c:\\users\\leilaa\\anaconda3\\lib\\site-packages (from tensorflow==2.3.0) (1.1.0)\n",
      "Requirement already satisfied: google-pasta>=0.1.8 in c:\\users\\leilaa\\anaconda3\\lib\\site-packages (from tensorflow==2.3.0) (0.2.0)\n",
      "Requirement already satisfied: astunparse==1.6.3 in c:\\users\\leilaa\\anaconda3\\lib\\site-packages (from tensorflow==2.3.0) (1.6.3)\n",
      "Requirement already satisfied: opt-einsum>=2.3.2 in c:\\users\\leilaa\\anaconda3\\lib\\site-packages (from tensorflow==2.3.0) (3.3.0)\n",
      "Requirement already satisfied: markdown>=2.6.8 in c:\\users\\leilaa\\anaconda3\\lib\\site-packages (from tensorboard<3,>=2.3.0->tensorflow==2.3.0) (3.3.4)\n",
      "Requirement already satisfied: tensorboard-data-server<0.7.0,>=0.6.0 in c:\\users\\leilaa\\anaconda3\\lib\\site-packages (from tensorboard<3,>=2.3.0->tensorflow==2.3.0) (0.6.1)\n",
      "Requirement already satisfied: tensorboard-plugin-wit>=1.6.0 in c:\\users\\leilaa\\anaconda3\\lib\\site-packages (from tensorboard<3,>=2.3.0->tensorflow==2.3.0) (1.8.0)\n",
      "Requirement already satisfied: google-auth-oauthlib<0.5,>=0.4.1 in c:\\users\\leilaa\\anaconda3\\lib\\site-packages (from tensorboard<3,>=2.3.0->tensorflow==2.3.0) (0.4.4)\n",
      "Requirement already satisfied: setuptools>=41.0.0 in c:\\users\\leilaa\\anaconda3\\lib\\site-packages (from tensorboard<3,>=2.3.0->tensorflow==2.3.0) (41.4.0)\n",
      "Requirement already satisfied: requests<3,>=2.21.0 in c:\\users\\leilaa\\anaconda3\\lib\\site-packages (from tensorboard<3,>=2.3.0->tensorflow==2.3.0) (2.22.0)\n",
      "Requirement already satisfied: google-auth<2,>=1.6.3 in c:\\users\\leilaa\\anaconda3\\lib\\site-packages (from tensorboard<3,>=2.3.0->tensorflow==2.3.0) (1.32.0)\n",
      "Requirement already satisfied: werkzeug>=0.11.15 in c:\\users\\leilaa\\anaconda3\\lib\\site-packages (from tensorboard<3,>=2.3.0->tensorflow==2.3.0) (0.16.0)\n",
      "Requirement already satisfied: cachetools<5.0,>=2.0.0 in c:\\users\\leilaa\\anaconda3\\lib\\site-packages (from google-auth<2,>=1.6.3->tensorboard<3,>=2.3.0->tensorflow==2.3.0) (4.2.2)\n",
      "Requirement already satisfied: rsa<5,>=3.1.4 in c:\\users\\leilaa\\anaconda3\\lib\\site-packages (from google-auth<2,>=1.6.3->tensorboard<3,>=2.3.0->tensorflow==2.3.0) (4.7.2)\n",
      "Requirement already satisfied: pyasn1-modules>=0.2.1 in c:\\users\\leilaa\\anaconda3\\lib\\site-packages (from google-auth<2,>=1.6.3->tensorboard<3,>=2.3.0->tensorflow==2.3.0) (0.2.8)\n",
      "Requirement already satisfied: requests-oauthlib>=0.7.0 in c:\\users\\leilaa\\anaconda3\\lib\\site-packages (from google-auth-oauthlib<0.5,>=0.4.1->tensorboard<3,>=2.3.0->tensorflow==2.3.0) (1.3.0)\n",
      "Requirement already satisfied: importlib-metadata in c:\\users\\leilaa\\anaconda3\\lib\\site-packages (from markdown>=2.6.8->tensorboard<3,>=2.3.0->tensorflow==2.3.0) (0.23)\n",
      "Requirement already satisfied: pyasn1<0.5.0,>=0.4.6 in c:\\users\\leilaa\\anaconda3\\lib\\site-packages (from pyasn1-modules>=0.2.1->google-auth<2,>=1.6.3->tensorboard<3,>=2.3.0->tensorflow==2.3.0) (0.4.8)\n",
      "Requirement already satisfied: certifi>=2017.4.17 in c:\\users\\leilaa\\anaconda3\\lib\\site-packages (from requests<3,>=2.21.0->tensorboard<3,>=2.3.0->tensorflow==2.3.0) (2019.9.11)\n",
      "Requirement already satisfied: chardet<3.1.0,>=3.0.2 in c:\\users\\leilaa\\anaconda3\\lib\\site-packages (from requests<3,>=2.21.0->tensorboard<3,>=2.3.0->tensorflow==2.3.0) (3.0.4)\n",
      "Requirement already satisfied: urllib3!=1.25.0,!=1.25.1,<1.26,>=1.21.1 in c:\\users\\leilaa\\anaconda3\\lib\\site-packages (from requests<3,>=2.21.0->tensorboard<3,>=2.3.0->tensorflow==2.3.0) (1.24.2)\n",
      "Requirement already satisfied: idna<2.9,>=2.5 in c:\\users\\leilaa\\anaconda3\\lib\\site-packages (from requests<3,>=2.21.0->tensorboard<3,>=2.3.0->tensorflow==2.3.0) (2.8)\n",
      "Requirement already satisfied: oauthlib>=3.0.0 in c:\\users\\leilaa\\anaconda3\\lib\\site-packages (from requests-oauthlib>=0.7.0->google-auth-oauthlib<0.5,>=0.4.1->tensorboard<3,>=2.3.0->tensorflow==2.3.0) (3.1.1)\n",
      "Requirement already satisfied: zipp>=0.5 in c:\\users\\leilaa\\anaconda3\\lib\\site-packages (from importlib-metadata->markdown>=2.6.8->tensorboard<3,>=2.3.0->tensorflow==2.3.0) (0.6.0)\n",
      "Requirement already satisfied: more-itertools in c:\\users\\leilaa\\anaconda3\\lib\\site-packages (from zipp>=0.5->importlib-metadata->markdown>=2.6.8->tensorboard<3,>=2.3.0->tensorflow==2.3.0) (7.2.0)\n",
      "Installing collected packages: tensorflow-estimator, tensorboard, gast, tensorflow\n",
      "  Attempting uninstall: tensorflow-estimator\n",
      "    Found existing installation: tensorflow-estimator 1.15.1\n",
      "    Uninstalling tensorflow-estimator-1.15.1:\n",
      "      Successfully uninstalled tensorflow-estimator-1.15.1\n",
      "  Attempting uninstall: tensorboard\n",
      "    Found existing installation: tensorboard 1.15.0\n",
      "    Uninstalling tensorboard-1.15.0:\n",
      "      Successfully uninstalled tensorboard-1.15.0\n",
      "  Attempting uninstall: gast\n",
      "    Found existing installation: gast 0.2.2\n",
      "    Uninstalling gast-0.2.2:\n",
      "      Successfully uninstalled gast-0.2.2\n",
      "  Attempting uninstall: tensorflow\n",
      "    Found existing installation: tensorflow 1.15.0\n",
      "    Uninstalling tensorflow-1.15.0:\n",
      "      Successfully uninstalled tensorflow-1.15.0\n",
      "  Rolling back uninstall of tensorflow\n",
      "  Moving to c:\\users\\leilaa\\appdata\\roaming\\python\\python37\\scripts\\\n",
      "   from c:\\users\\leilaa\\appdata\\roaming\\python\\python37\\~cripts\n",
      "  Moving to c:\\users\\leilaa\\appdata\\roaming\\python\\python37\\site-packages\\tensorflow-1.15.0.dist-info\\\n",
      "   from c:\\users\\leilaa\\appdata\\roaming\\python\\python37\\site-packages\\~ensorflow-1.15.0.dist-info\n",
      "  Moving to c:\\users\\leilaa\\appdata\\roaming\\python\\python37\\site-packages\\tensorflow\\\n",
      "   from c:\\users\\leilaa\\appdata\\roaming\\python\\python37\\site-packages\\~ensorflow\n",
      "  Moving to c:\\users\\leilaa\\appdata\\roaming\\python\\python37\\site-packages\\tensorflow_core\\\n",
      "   from c:\\users\\leilaa\\appdata\\roaming\\python\\python37\\site-packages\\~ensorflow_core\n"
     ]
    },
    {
     "name": "stderr",
     "output_type": "stream",
     "text": [
      "WARNING: Ignoring invalid distribution -cipy (c:\\users\\leilaa\\anaconda3\\lib\\site-packages)\n",
      "WARNING: Ignoring invalid distribution -cipy (c:\\users\\leilaa\\anaconda3\\lib\\site-packages)\n",
      "WARNING: Ignoring invalid distribution -cipy (c:\\users\\leilaa\\anaconda3\\lib\\site-packages)\n",
      "ERROR: Could not install packages due to an OSError: [WinError 5] Access is denied: 'c:\\\\users\\\\leilaa\\\\anaconda3\\\\Lib\\\\site-packages\\\\tensorflow\\\\lite\\\\experimental\\\\microfrontend\\\\python\\\\ops\\\\_audio_microfrontend_op.so'\n",
      "Consider using the `--user` option or check the permissions.\n",
      "\n",
      "WARNING: Ignoring invalid distribution -cipy (c:\\users\\leilaa\\anaconda3\\lib\\site-packages)\n",
      "WARNING: Ignoring invalid distribution -cipy (c:\\users\\leilaa\\anaconda3\\lib\\site-packages)\n",
      "WARNING: Ignoring invalid distribution -cipy (c:\\users\\leilaa\\anaconda3\\lib\\site-packages)\n",
      "WARNING: You are using pip version 21.1.3; however, version 21.2.4 is available.\n",
      "You should consider upgrading via the 'c:\\users\\leilaa\\anaconda3\\python.exe -m pip install --upgrade pip' command.\n"
     ]
    },
    {
     "name": "stdout",
     "output_type": "stream",
     "text": [
      "Requirement already satisfied: gym in c:\\users\\leilaa\\anaconda3\\lib\\site-packages (0.18.0)\n",
      "Requirement already satisfied: cloudpickle<1.7.0,>=1.2.0 in c:\\users\\leilaa\\anaconda3\\lib\\site-packages (from gym) (1.2.2)\n",
      "Requirement already satisfied: Pillow<=7.2.0 in c:\\users\\leilaa\\anaconda3\\lib\\site-packages (from gym) (6.2.0)\n",
      "Requirement already satisfied: scipy in c:\\users\\leilaa\\anaconda3\\lib\\site-packages (from gym) (1.4.1)\n",
      "Requirement already satisfied: pyglet<=1.5.0,>=1.4.0 in c:\\users\\leilaa\\anaconda3\\lib\\site-packages (from gym) (1.5.0)\n",
      "Requirement already satisfied: numpy>=1.10.4 in c:\\users\\leilaa\\anaconda3\\lib\\site-packages (from gym) (1.18.5)\n",
      "Requirement already satisfied: future in c:\\users\\leilaa\\anaconda3\\lib\\site-packages (from pyglet<=1.5.0,>=1.4.0->gym) (0.17.1)\n"
     ]
    },
    {
     "name": "stderr",
     "output_type": "stream",
     "text": [
      "WARNING: Ignoring invalid distribution -cipy (c:\\users\\leilaa\\anaconda3\\lib\\site-packages)\n",
      "WARNING: Ignoring invalid distribution -cipy (c:\\users\\leilaa\\anaconda3\\lib\\site-packages)\n",
      "WARNING: Ignoring invalid distribution -cipy (c:\\users\\leilaa\\anaconda3\\lib\\site-packages)\n",
      "WARNING: Ignoring invalid distribution -cipy (c:\\users\\leilaa\\anaconda3\\lib\\site-packages)\n",
      "WARNING: Ignoring invalid distribution -cipy (c:\\users\\leilaa\\anaconda3\\lib\\site-packages)\n",
      "WARNING: Ignoring invalid distribution -cipy (c:\\users\\leilaa\\anaconda3\\lib\\site-packages)\n",
      "WARNING: You are using pip version 21.1.3; however, version 21.2.4 is available.\n",
      "You should consider upgrading via the 'c:\\users\\leilaa\\anaconda3\\python.exe -m pip install --upgrade pip' command.\n"
     ]
    },
    {
     "name": "stdout",
     "output_type": "stream",
     "text": [
      "Requirement already satisfied: keras in c:\\users\\leilaa\\anaconda3\\lib\\site-packages (2.4.3)\n",
      "Requirement already satisfied: h5py in c:\\users\\leilaa\\anaconda3\\lib\\site-packages (from keras) (2.10.0)\n",
      "Requirement already satisfied: scipy>=0.14 in c:\\users\\leilaa\\anaconda3\\lib\\site-packages (from keras) (1.4.1)\n",
      "Requirement already satisfied: pyyaml in c:\\users\\leilaa\\anaconda3\\lib\\site-packages (from keras) (5.1.2)\n",
      "Requirement already satisfied: numpy>=1.9.1 in c:\\users\\leilaa\\anaconda3\\lib\\site-packages (from keras) (1.18.5)\n",
      "Requirement already satisfied: six in c:\\users\\leilaa\\anaconda3\\lib\\site-packages (from h5py->keras) (1.15.0)\n"
     ]
    },
    {
     "name": "stderr",
     "output_type": "stream",
     "text": [
      "WARNING: Ignoring invalid distribution -cipy (c:\\users\\leilaa\\anaconda3\\lib\\site-packages)\n",
      "WARNING: Ignoring invalid distribution -cipy (c:\\users\\leilaa\\anaconda3\\lib\\site-packages)\n",
      "WARNING: Ignoring invalid distribution -cipy (c:\\users\\leilaa\\anaconda3\\lib\\site-packages)\n",
      "WARNING: Ignoring invalid distribution -cipy (c:\\users\\leilaa\\anaconda3\\lib\\site-packages)\n",
      "WARNING: Ignoring invalid distribution -cipy (c:\\users\\leilaa\\anaconda3\\lib\\site-packages)\n",
      "WARNING: Ignoring invalid distribution -cipy (c:\\users\\leilaa\\anaconda3\\lib\\site-packages)\n",
      "WARNING: You are using pip version 21.1.3; however, version 21.2.4 is available.\n",
      "You should consider upgrading via the 'c:\\users\\leilaa\\anaconda3\\python.exe -m pip install --upgrade pip' command.\n"
     ]
    },
    {
     "name": "stdout",
     "output_type": "stream",
     "text": [
      "Requirement already satisfied: keras-rl2 in c:\\users\\leilaa\\anaconda3\\lib\\site-packages (1.0.5)\n",
      "Requirement already satisfied: tensorflow in c:\\users\\leilaa\\appdata\\roaming\\python\\python37\\site-packages (from keras-rl2) (1.15.0)\n",
      "Requirement already satisfied: keras-preprocessing>=1.0.5 in c:\\users\\leilaa\\anaconda3\\lib\\site-packages (from tensorflow->keras-rl2) (1.1.2)\n",
      "Requirement already satisfied: numpy<2.0,>=1.16.0 in c:\\users\\leilaa\\anaconda3\\lib\\site-packages (from tensorflow->keras-rl2) (1.18.5)\n",
      "Collecting gast==0.2.2\n",
      "  Using cached gast-0.2.2-py3-none-any.whl\n",
      "Requirement already satisfied: grpcio>=1.8.6 in c:\\users\\leilaa\\anaconda3\\lib\\site-packages (from tensorflow->keras-rl2) (1.34.1)\n",
      "Requirement already satisfied: protobuf>=3.6.1 in c:\\users\\leilaa\\anaconda3\\lib\\site-packages (from tensorflow->keras-rl2) (3.17.3)\n",
      "Requirement already satisfied: astor>=0.6.0 in c:\\users\\leilaa\\appdata\\roaming\\python\\python37\\site-packages (from tensorflow->keras-rl2) (0.8.1)\n",
      "Collecting tensorboard<1.16.0,>=1.15.0\n",
      "  Using cached tensorboard-1.15.0-py3-none-any.whl (3.8 MB)\n",
      "Collecting tensorflow-estimator==1.15.1\n",
      "  Using cached tensorflow_estimator-1.15.1-py2.py3-none-any.whl (503 kB)\n",
      "Requirement already satisfied: termcolor>=1.1.0 in c:\\users\\leilaa\\anaconda3\\lib\\site-packages (from tensorflow->keras-rl2) (1.1.0)\n",
      "Requirement already satisfied: wrapt>=1.11.1 in c:\\users\\leilaa\\anaconda3\\lib\\site-packages (from tensorflow->keras-rl2) (1.12.1)\n",
      "Requirement already satisfied: wheel>=0.26 in c:\\users\\leilaa\\anaconda3\\lib\\site-packages (from tensorflow->keras-rl2) (0.36.2)\n",
      "Requirement already satisfied: absl-py>=0.7.0 in c:\\users\\leilaa\\anaconda3\\lib\\site-packages (from tensorflow->keras-rl2) (0.13.0)\n",
      "Requirement already satisfied: keras-applications>=1.0.8 in c:\\users\\leilaa\\appdata\\roaming\\python\\python37\\site-packages (from tensorflow->keras-rl2) (1.0.8)\n",
      "Requirement already satisfied: six>=1.10.0 in c:\\users\\leilaa\\anaconda3\\lib\\site-packages (from tensorflow->keras-rl2) (1.15.0)\n",
      "Requirement already satisfied: opt-einsum>=2.3.2 in c:\\users\\leilaa\\anaconda3\\lib\\site-packages (from tensorflow->keras-rl2) (3.3.0)\n",
      "Requirement already satisfied: google-pasta>=0.1.6 in c:\\users\\leilaa\\anaconda3\\lib\\site-packages (from tensorflow->keras-rl2) (0.2.0)\n",
      "Requirement already satisfied: h5py in c:\\users\\leilaa\\anaconda3\\lib\\site-packages (from keras-applications>=1.0.8->tensorflow->keras-rl2) (2.10.0)\n",
      "Requirement already satisfied: markdown>=2.6.8 in c:\\users\\leilaa\\anaconda3\\lib\\site-packages (from tensorboard<1.16.0,>=1.15.0->tensorflow->keras-rl2) (3.3.4)\n",
      "Requirement already satisfied: werkzeug>=0.11.15 in c:\\users\\leilaa\\anaconda3\\lib\\site-packages (from tensorboard<1.16.0,>=1.15.0->tensorflow->keras-rl2) (0.16.0)\n",
      "Requirement already satisfied: setuptools>=41.0.0 in c:\\users\\leilaa\\anaconda3\\lib\\site-packages (from tensorboard<1.16.0,>=1.15.0->tensorflow->keras-rl2) (41.4.0)\n",
      "Requirement already satisfied: importlib-metadata in c:\\users\\leilaa\\anaconda3\\lib\\site-packages (from markdown>=2.6.8->tensorboard<1.16.0,>=1.15.0->tensorflow->keras-rl2) (0.23)\n",
      "Requirement already satisfied: zipp>=0.5 in c:\\users\\leilaa\\anaconda3\\lib\\site-packages (from importlib-metadata->markdown>=2.6.8->tensorboard<1.16.0,>=1.15.0->tensorflow->keras-rl2) (0.6.0)\n",
      "Requirement already satisfied: more-itertools in c:\\users\\leilaa\\anaconda3\\lib\\site-packages (from zipp>=0.5->importlib-metadata->markdown>=2.6.8->tensorboard<1.16.0,>=1.15.0->tensorflow->keras-rl2) (7.2.0)\n",
      "Installing collected packages: tensorflow-estimator, tensorboard, gast\n",
      "  Attempting uninstall: tensorflow-estimator\n",
      "    Found existing installation: tensorflow-estimator 2.3.0\n",
      "    Uninstalling tensorflow-estimator-2.3.0:\n",
      "      Successfully uninstalled tensorflow-estimator-2.3.0\n",
      "  Attempting uninstall: tensorboard\n",
      "    Found existing installation: tensorboard 2.6.0\n",
      "    Uninstalling tensorboard-2.6.0:\n",
      "      Successfully uninstalled tensorboard-2.6.0\n",
      "  Attempting uninstall: gast\n",
      "    Found existing installation: gast 0.3.3\n",
      "    Uninstalling gast-0.3.3:\n",
      "      Successfully uninstalled gast-0.3.3\n",
      "Successfully installed gast-0.2.2 tensorboard-2.5.0 tensorflow-estimator-1.15.1\n"
     ]
    },
    {
     "name": "stderr",
     "output_type": "stream",
     "text": [
      "WARNING: Ignoring invalid distribution -cipy (c:\\users\\leilaa\\anaconda3\\lib\\site-packages)\n",
      "WARNING: Ignoring invalid distribution -cipy (c:\\users\\leilaa\\anaconda3\\lib\\site-packages)\n",
      "WARNING: Ignoring invalid distribution -cipy (c:\\users\\leilaa\\anaconda3\\lib\\site-packages)\n",
      "    WARNING: Ignoring invalid distribution -cipy (c:\\users\\leilaa\\anaconda3\\lib\\site-packages)\n",
      "    WARNING: Ignoring invalid distribution -cipy (c:\\users\\leilaa\\anaconda3\\lib\\site-packages)\n",
      "    WARNING: Ignoring invalid distribution -cipy (c:\\users\\leilaa\\anaconda3\\lib\\site-packages)\n",
      "WARNING: Ignoring invalid distribution -cipy (c:\\users\\leilaa\\anaconda3\\lib\\site-packages)\n",
      "WARNING: Ignoring invalid distribution -cipy (c:\\users\\leilaa\\anaconda3\\lib\\site-packages)\n",
      "WARNING: Ignoring invalid distribution -cipy (c:\\users\\leilaa\\anaconda3\\lib\\site-packages)\n",
      "WARNING: Ignoring invalid distribution -cipy (c:\\users\\leilaa\\anaconda3\\lib\\site-packages)\n",
      "WARNING: Ignoring invalid distribution -cipy (c:\\users\\leilaa\\anaconda3\\lib\\site-packages)\n",
      "WARNING: Ignoring invalid distribution -cipy (c:\\users\\leilaa\\anaconda3\\lib\\site-packages)\n",
      "WARNING: You are using pip version 21.1.3; however, version 21.2.4 is available.\n",
      "You should consider upgrading via the 'c:\\users\\leilaa\\anaconda3\\python.exe -m pip install --upgrade pip' command.\n"
     ]
    }
   ],
   "source": [
    "!pip install tensorflow==2.3.0\n",
    "!pip install gym\n",
    "!pip install keras\n",
    "!pip install keras-rl2"
   ]
  },
  {
   "cell_type": "markdown",
   "metadata": {},
   "source": [
    "# Test random environment with OpenAI Gym"
   ]
  },
  {
   "cell_type": "code",
   "execution_count": 3,
   "metadata": {},
   "outputs": [],
   "source": [
    "import gym\n",
    "import random"
   ]
  },
  {
   "cell_type": "code",
   "execution_count": 11,
   "metadata": {},
   "outputs": [],
   "source": [
    "env = gym.make('CartPole-v0')\n",
    "actions = env.action_space.n\n",
    "states = env.observation_space.shape[0]"
   ]
  },
  {
   "cell_type": "code",
   "execution_count": 6,
   "metadata": {},
   "outputs": [
    {
     "data": {
      "text/plain": [
       "4"
      ]
     },
     "execution_count": 6,
     "metadata": {},
     "output_type": "execute_result"
    }
   ],
   "source": [
    "states"
   ]
  },
  {
   "cell_type": "code",
   "execution_count": 7,
   "metadata": {},
   "outputs": [
    {
     "name": "stdout",
     "output_type": "stream",
     "text": [
      "Episode:1, Score:18.0\n",
      "Episode:2, Score:32.0\n",
      "Episode:3, Score:22.0\n",
      "Episode:4, Score:14.0\n",
      "Episode:5, Score:11.0\n",
      "Episode:6, Score:15.0\n",
      "Episode:7, Score:10.0\n",
      "Episode:8, Score:15.0\n",
      "Episode:9, Score:21.0\n",
      "Episode:10, Score:22.0\n"
     ]
    }
   ],
   "source": [
    "episodes = 10\n",
    "for episode in range(1, episodes+1):\n",
    "    env.reset()\n",
    "    score = 0\n",
    "    done = False\n",
    "    \n",
    "    while not done:\n",
    "        env.render()\n",
    "        action = random.choice([0,1])\n",
    "        state, reward, done, info = env.step(action)\n",
    "        score += reward\n",
    "    print('Episode:{}, Score:{}'.format(episode, score))\n",
    "env.close()"
   ]
  },
  {
   "cell_type": "markdown",
   "metadata": {},
   "source": [
    "# Create a deep learning model with Keras"
   ]
  },
  {
   "cell_type": "code",
   "execution_count": 4,
   "metadata": {},
   "outputs": [],
   "source": [
    "import numpy as np\n",
    "from tensorflow.keras.models import Sequential\n",
    "from tensorflow.keras.layers import Dense, Flatten\n",
    "from tensorflow.keras.optimizers import Adam"
   ]
  },
  {
   "cell_type": "code",
   "execution_count": 5,
   "metadata": {},
   "outputs": [],
   "source": [
    "def build_model(states, actions):\n",
    "    model = Sequential()\n",
    "    model.add(Flatten(input_shape=(1,states)))\n",
    "    model.add(Dense(24, activation='relu'))\n",
    "    model.add(Dense(24, activation='relu'))\n",
    "    model.add(Dense(actions, activation='linear'))    \n",
    "    return model"
   ]
  },
  {
   "cell_type": "code",
   "execution_count": 12,
   "metadata": {},
   "outputs": [
    {
     "name": "stdout",
     "output_type": "stream",
     "text": [
      "WARNING:tensorflow:From C:\\Users\\leilaa\\AppData\\Roaming\\Python\\Python37\\site-packages\\tensorflow_core\\python\\ops\\resource_variable_ops.py:1630: calling BaseResourceVariable.__init__ (from tensorflow.python.ops.resource_variable_ops) with constraint is deprecated and will be removed in a future version.\n",
      "Instructions for updating:\n",
      "If using Keras pass *_constraint arguments to layers.\n"
     ]
    }
   ],
   "source": [
    "model = build_model(states, actions)"
   ]
  },
  {
   "cell_type": "code",
   "execution_count": 13,
   "metadata": {},
   "outputs": [
    {
     "name": "stdout",
     "output_type": "stream",
     "text": [
      "Model: \"sequential\"\n",
      "_________________________________________________________________\n",
      "Layer (type)                 Output Shape              Param #   \n",
      "=================================================================\n",
      "flatten (Flatten)            (None, 4)                 0         \n",
      "_________________________________________________________________\n",
      "dense (Dense)                (None, 24)                120       \n",
      "_________________________________________________________________\n",
      "dense_1 (Dense)              (None, 24)                600       \n",
      "_________________________________________________________________\n",
      "dense_2 (Dense)              (None, 2)                 50        \n",
      "=================================================================\n",
      "Total params: 770\n",
      "Trainable params: 770\n",
      "Non-trainable params: 0\n",
      "_________________________________________________________________\n"
     ]
    }
   ],
   "source": [
    "model.summary()"
   ]
  },
  {
   "cell_type": "markdown",
   "metadata": {},
   "source": [
    "# Build agent with Keras-RL"
   ]
  },
  {
   "cell_type": "code",
   "execution_count": 30,
   "metadata": {},
   "outputs": [],
   "source": [
    "from rl.agents import SARSAAgent\n",
    "from rl.policy import BoltzmannQPolicy\n",
    "from rl.memory import SequentialMemory"
   ]
  },
  {
   "cell_type": "code",
   "execution_count": 6,
   "metadata": {},
   "outputs": [],
   "source": [
    "def build_agent(model, actions):\n",
    "    policy = BoltzmannQPolicy()\n",
    "    memory = SequentialMemory(limit=5000, window_length=1)\n",
    "    sarsa = SARSAAgent(model, actions, policy=None, test_policy=None, gamma=0.99, nb_steps_warmup=10, train_interval=1)\n",
    "\n",
    "#     dqn = DQNAgent(model=model, memory=memory, policy=policy\n",
    "#                   ,nb_actions=actions, nb_steps_warmup=10, target_model_update=1e-2)\n",
    "    return sarsa"
   ]
  },
  {
   "cell_type": "code",
   "execution_count": 37,
   "metadata": {},
   "outputs": [
    {
     "name": "stdout",
     "output_type": "stream",
     "text": [
      "Training for 2000 steps ...\n",
      "Interval 1 (0 steps performed)\n",
      " 1998/10000 [====>.........................] - ETA: 2:28 - reward: 1.0000- ETA: 2:30 - rewarddone, took 37.164 seconds\n"
     ]
    },
    {
     "data": {
      "text/plain": [
       "<tensorflow.python.keras.callbacks.History at 0x24fdc7a9148>"
      ]
     },
     "execution_count": 37,
     "metadata": {},
     "output_type": "execute_result"
    }
   ],
   "source": [
    "sarsa = build_agent(model, actions)\n",
    "sarsa.compile(Adam(lr=1e-3), metrics=['mae'])\n",
    "sarsa.fit(env, nb_steps=2000, visualize=False)"
   ]
  },
  {
   "cell_type": "code",
   "execution_count": 39,
   "metadata": {},
   "outputs": [
    {
     "name": "stdout",
     "output_type": "stream",
     "text": [
      "Testing for 100 episodes ...\n",
      "Episode 1: reward: 21.000, steps: 21\n",
      "Episode 2: reward: 21.000, steps: 21\n",
      "Episode 3: reward: 21.000, steps: 21\n",
      "Episode 4: reward: 24.000, steps: 24\n",
      "Episode 5: reward: 26.000, steps: 26\n",
      "Episode 6: reward: 25.000, steps: 25\n",
      "Episode 7: reward: 29.000, steps: 29\n",
      "Episode 8: reward: 23.000, steps: 23\n",
      "Episode 9: reward: 22.000, steps: 22\n",
      "Episode 10: reward: 32.000, steps: 32\n",
      "Episode 11: reward: 23.000, steps: 23\n",
      "Episode 12: reward: 21.000, steps: 21\n",
      "Episode 13: reward: 26.000, steps: 26\n",
      "Episode 14: reward: 17.000, steps: 17\n",
      "Episode 15: reward: 19.000, steps: 19\n",
      "Episode 16: reward: 20.000, steps: 20\n",
      "Episode 17: reward: 23.000, steps: 23\n",
      "Episode 18: reward: 26.000, steps: 26\n",
      "Episode 19: reward: 25.000, steps: 25\n",
      "Episode 20: reward: 19.000, steps: 19\n",
      "Episode 21: reward: 23.000, steps: 23\n",
      "Episode 22: reward: 18.000, steps: 18\n",
      "Episode 23: reward: 29.000, steps: 29\n",
      "Episode 24: reward: 19.000, steps: 19\n",
      "Episode 25: reward: 26.000, steps: 26\n",
      "Episode 26: reward: 25.000, steps: 25\n",
      "Episode 27: reward: 19.000, steps: 19\n",
      "Episode 28: reward: 22.000, steps: 22\n",
      "Episode 29: reward: 28.000, steps: 28\n",
      "Episode 30: reward: 25.000, steps: 25\n",
      "Episode 31: reward: 18.000, steps: 18\n",
      "Episode 32: reward: 24.000, steps: 24\n",
      "Episode 33: reward: 19.000, steps: 19\n",
      "Episode 34: reward: 21.000, steps: 21\n",
      "Episode 35: reward: 29.000, steps: 29\n",
      "Episode 36: reward: 28.000, steps: 28\n",
      "Episode 37: reward: 19.000, steps: 19\n",
      "Episode 38: reward: 23.000, steps: 23\n",
      "Episode 39: reward: 26.000, steps: 26\n",
      "Episode 40: reward: 29.000, steps: 29\n",
      "Episode 41: reward: 20.000, steps: 20\n",
      "Episode 42: reward: 18.000, steps: 18\n",
      "Episode 43: reward: 20.000, steps: 20\n",
      "Episode 44: reward: 21.000, steps: 21\n",
      "Episode 45: reward: 26.000, steps: 26\n",
      "Episode 46: reward: 27.000, steps: 27\n",
      "Episode 47: reward: 19.000, steps: 19\n",
      "Episode 48: reward: 23.000, steps: 23\n",
      "Episode 49: reward: 19.000, steps: 19\n",
      "Episode 50: reward: 26.000, steps: 26\n",
      "Episode 51: reward: 29.000, steps: 29\n",
      "Episode 52: reward: 29.000, steps: 29\n",
      "Episode 53: reward: 21.000, steps: 21\n",
      "Episode 54: reward: 22.000, steps: 22\n",
      "Episode 55: reward: 27.000, steps: 27\n",
      "Episode 56: reward: 24.000, steps: 24\n",
      "Episode 57: reward: 19.000, steps: 19\n",
      "Episode 58: reward: 30.000, steps: 30\n",
      "Episode 59: reward: 25.000, steps: 25\n",
      "Episode 60: reward: 27.000, steps: 27\n",
      "Episode 61: reward: 24.000, steps: 24\n",
      "Episode 62: reward: 21.000, steps: 21\n",
      "Episode 63: reward: 21.000, steps: 21\n",
      "Episode 64: reward: 19.000, steps: 19\n",
      "Episode 65: reward: 28.000, steps: 28\n",
      "Episode 66: reward: 25.000, steps: 25\n",
      "Episode 67: reward: 25.000, steps: 25\n",
      "Episode 68: reward: 19.000, steps: 19\n",
      "Episode 69: reward: 27.000, steps: 27\n",
      "Episode 70: reward: 22.000, steps: 22\n",
      "Episode 71: reward: 23.000, steps: 23\n",
      "Episode 72: reward: 24.000, steps: 24\n",
      "Episode 73: reward: 25.000, steps: 25\n",
      "Episode 74: reward: 21.000, steps: 21\n",
      "Episode 75: reward: 24.000, steps: 24\n",
      "Episode 76: reward: 25.000, steps: 25\n",
      "Episode 77: reward: 23.000, steps: 23\n",
      "Episode 78: reward: 25.000, steps: 25\n",
      "Episode 79: reward: 25.000, steps: 25\n",
      "Episode 80: reward: 20.000, steps: 20\n",
      "Episode 81: reward: 20.000, steps: 20\n",
      "Episode 82: reward: 23.000, steps: 23\n",
      "Episode 83: reward: 25.000, steps: 25\n",
      "Episode 84: reward: 21.000, steps: 21\n",
      "Episode 85: reward: 20.000, steps: 20\n",
      "Episode 86: reward: 25.000, steps: 25\n",
      "Episode 87: reward: 19.000, steps: 19\n",
      "Episode 88: reward: 21.000, steps: 21\n",
      "Episode 89: reward: 27.000, steps: 27\n",
      "Episode 90: reward: 21.000, steps: 21\n",
      "Episode 91: reward: 22.000, steps: 22\n",
      "Episode 92: reward: 20.000, steps: 20\n",
      "Episode 93: reward: 28.000, steps: 28\n",
      "Episode 94: reward: 26.000, steps: 26\n",
      "Episode 95: reward: 19.000, steps: 19\n",
      "Episode 96: reward: 23.000, steps: 23\n",
      "Episode 97: reward: 19.000, steps: 19\n",
      "Episode 98: reward: 30.000, steps: 30\n",
      "Episode 99: reward: 30.000, steps: 30\n",
      "Episode 100: reward: 23.000, steps: 23\n",
      "23.33\n"
     ]
    }
   ],
   "source": [
    "score = sarsa.test(env, nb_episodes=100, visualize=False)\n",
    "print(np.mean(score.history['episode_reward']))"
   ]
  },
  {
   "cell_type": "code",
   "execution_count": 41,
   "metadata": {},
   "outputs": [
    {
     "name": "stdout",
     "output_type": "stream",
     "text": [
      "Testing for 15 episodes ...\n",
      "Episode 1: reward: 28.000, steps: 28\n",
      "Episode 2: reward: 25.000, steps: 25\n",
      "Episode 3: reward: 24.000, steps: 24\n",
      "Episode 4: reward: 23.000, steps: 23\n",
      "Episode 5: reward: 21.000, steps: 21\n",
      "Episode 6: reward: 21.000, steps: 21\n",
      "Episode 7: reward: 21.000, steps: 21\n",
      "Episode 8: reward: 17.000, steps: 17\n",
      "Episode 9: reward: 25.000, steps: 25\n",
      "Episode 10: reward: 32.000, steps: 32\n",
      "Episode 11: reward: 20.000, steps: 20\n",
      "Episode 12: reward: 23.000, steps: 23\n",
      "Episode 13: reward: 21.000, steps: 21\n",
      "Episode 14: reward: 21.000, steps: 21\n",
      "Episode 15: reward: 20.000, steps: 20\n"
     ]
    }
   ],
   "source": [
    "_ = sarsa.test(env, nb_episodes=15, visualize=True)"
   ]
  },
  {
   "cell_type": "markdown",
   "metadata": {},
   "source": [
    "# Reloading agent from memory"
   ]
  },
  {
   "cell_type": "code",
   "execution_count": 42,
   "metadata": {},
   "outputs": [],
   "source": [
    "sarsa.save_weights('sarsa.weights.h5f', overwrite=True)"
   ]
  },
  {
   "cell_type": "code",
   "execution_count": 43,
   "metadata": {},
   "outputs": [],
   "source": [
    "del sarsa\n",
    "del env\n",
    "del model"
   ]
  },
  {
   "cell_type": "code",
   "execution_count": 7,
   "metadata": {},
   "outputs": [
    {
     "name": "stdout",
     "output_type": "stream",
     "text": [
      "WARNING:tensorflow:From C:\\Users\\leilaa\\AppData\\Roaming\\Python\\Python37\\site-packages\\tensorflow_core\\python\\ops\\resource_variable_ops.py:1630: calling BaseResourceVariable.__init__ (from tensorflow.python.ops.resource_variable_ops) with constraint is deprecated and will be removed in a future version.\n",
      "Instructions for updating:\n",
      "If using Keras pass *_constraint arguments to layers.\n"
     ]
    },
    {
     "ename": "NameError",
     "evalue": "name 'BoltzmannQPolicy' is not defined",
     "output_type": "error",
     "traceback": [
      "\u001b[1;31m---------------------------------------------------------------------------\u001b[0m",
      "\u001b[1;31mNameError\u001b[0m                                 Traceback (most recent call last)",
      "\u001b[1;32m<ipython-input-7-ba0754fe19e5>\u001b[0m in \u001b[0;36m<module>\u001b[1;34m\u001b[0m\n\u001b[0;32m      3\u001b[0m \u001b[0mstates\u001b[0m \u001b[1;33m=\u001b[0m \u001b[0menv\u001b[0m\u001b[1;33m.\u001b[0m\u001b[0mobservation_space\u001b[0m\u001b[1;33m.\u001b[0m\u001b[0mshape\u001b[0m\u001b[1;33m[\u001b[0m\u001b[1;36m0\u001b[0m\u001b[1;33m]\u001b[0m\u001b[1;33m\u001b[0m\u001b[1;33m\u001b[0m\u001b[0m\n\u001b[0;32m      4\u001b[0m \u001b[0mmodel\u001b[0m \u001b[1;33m=\u001b[0m \u001b[0mbuild_model\u001b[0m\u001b[1;33m(\u001b[0m\u001b[0mstates\u001b[0m\u001b[1;33m,\u001b[0m \u001b[0mactions\u001b[0m\u001b[1;33m)\u001b[0m\u001b[1;33m\u001b[0m\u001b[1;33m\u001b[0m\u001b[0m\n\u001b[1;32m----> 5\u001b[1;33m \u001b[0msarsa\u001b[0m \u001b[1;33m=\u001b[0m \u001b[0mbuild_agent\u001b[0m\u001b[1;33m(\u001b[0m\u001b[0mmodel\u001b[0m\u001b[1;33m,\u001b[0m \u001b[0mactions\u001b[0m\u001b[1;33m)\u001b[0m\u001b[1;33m\u001b[0m\u001b[1;33m\u001b[0m\u001b[0m\n\u001b[0m\u001b[0;32m      6\u001b[0m \u001b[0msarsa\u001b[0m\u001b[1;33m.\u001b[0m\u001b[0mcompile\u001b[0m\u001b[1;33m(\u001b[0m\u001b[0mAdam\u001b[0m\u001b[1;33m(\u001b[0m\u001b[0mlr\u001b[0m\u001b[1;33m=\u001b[0m\u001b[1;36m1e-3\u001b[0m\u001b[1;33m)\u001b[0m\u001b[1;33m,\u001b[0m \u001b[0mmetrics\u001b[0m\u001b[1;33m=\u001b[0m\u001b[1;33m[\u001b[0m\u001b[1;34m'mae'\u001b[0m\u001b[1;33m]\u001b[0m\u001b[1;33m)\u001b[0m\u001b[1;33m\u001b[0m\u001b[1;33m\u001b[0m\u001b[0m\n",
      "\u001b[1;32m<ipython-input-6-6d63c480b086>\u001b[0m in \u001b[0;36mbuild_agent\u001b[1;34m(model, actions)\u001b[0m\n\u001b[0;32m      1\u001b[0m \u001b[1;32mdef\u001b[0m \u001b[0mbuild_agent\u001b[0m\u001b[1;33m(\u001b[0m\u001b[0mmodel\u001b[0m\u001b[1;33m,\u001b[0m \u001b[0mactions\u001b[0m\u001b[1;33m)\u001b[0m\u001b[1;33m:\u001b[0m\u001b[1;33m\u001b[0m\u001b[1;33m\u001b[0m\u001b[0m\n\u001b[1;32m----> 2\u001b[1;33m     \u001b[0mpolicy\u001b[0m \u001b[1;33m=\u001b[0m \u001b[0mBoltzmannQPolicy\u001b[0m\u001b[1;33m(\u001b[0m\u001b[1;33m)\u001b[0m\u001b[1;33m\u001b[0m\u001b[1;33m\u001b[0m\u001b[0m\n\u001b[0m\u001b[0;32m      3\u001b[0m     \u001b[0mmemory\u001b[0m \u001b[1;33m=\u001b[0m \u001b[0mSequentialMemory\u001b[0m\u001b[1;33m(\u001b[0m\u001b[0mlimit\u001b[0m\u001b[1;33m=\u001b[0m\u001b[1;36m5000\u001b[0m\u001b[1;33m,\u001b[0m \u001b[0mwindow_length\u001b[0m\u001b[1;33m=\u001b[0m\u001b[1;36m1\u001b[0m\u001b[1;33m)\u001b[0m\u001b[1;33m\u001b[0m\u001b[1;33m\u001b[0m\u001b[0m\n\u001b[0;32m      4\u001b[0m     \u001b[0msarsa\u001b[0m \u001b[1;33m=\u001b[0m \u001b[0mSARSAAgent\u001b[0m\u001b[1;33m(\u001b[0m\u001b[0mmodel\u001b[0m\u001b[1;33m,\u001b[0m \u001b[0mactions\u001b[0m\u001b[1;33m,\u001b[0m \u001b[0mpolicy\u001b[0m\u001b[1;33m=\u001b[0m\u001b[1;32mNone\u001b[0m\u001b[1;33m,\u001b[0m \u001b[0mtest_policy\u001b[0m\u001b[1;33m=\u001b[0m\u001b[1;32mNone\u001b[0m\u001b[1;33m,\u001b[0m \u001b[0mgamma\u001b[0m\u001b[1;33m=\u001b[0m\u001b[1;36m0.99\u001b[0m\u001b[1;33m,\u001b[0m \u001b[0mnb_steps_warmup\u001b[0m\u001b[1;33m=\u001b[0m\u001b[1;36m10\u001b[0m\u001b[1;33m,\u001b[0m \u001b[0mtrain_interval\u001b[0m\u001b[1;33m=\u001b[0m\u001b[1;36m1\u001b[0m\u001b[1;33m)\u001b[0m\u001b[1;33m\u001b[0m\u001b[1;33m\u001b[0m\u001b[0m\n\u001b[0;32m      5\u001b[0m \u001b[1;33m\u001b[0m\u001b[0m\n",
      "\u001b[1;31mNameError\u001b[0m: name 'BoltzmannQPolicy' is not defined"
     ]
    }
   ],
   "source": [
    "env = gym.make('CartPole-v0')\n",
    "actions = env.action_space.n\n",
    "states = env.observation_space.shape[0]\n",
    "model = build_model(states, actions)\n",
    "sarsa = build_agent(model, actions)\n",
    "sarsa.compile(Adam(lr=1e-3), metrics=['mae'])\n"
   ]
  },
  {
   "cell_type": "code",
   "execution_count": 49,
   "metadata": {},
   "outputs": [],
   "source": [
    "sarsa.load_weights('sarsa.weights.h5f')"
   ]
  },
  {
   "cell_type": "code",
   "execution_count": 1,
   "metadata": {},
   "outputs": [
    {
     "ename": "NameError",
     "evalue": "name 'sarsa' is not defined",
     "output_type": "error",
     "traceback": [
      "\u001b[1;31m---------------------------------------------------------------------------\u001b[0m",
      "\u001b[1;31mNameError\u001b[0m                                 Traceback (most recent call last)",
      "\u001b[1;32m<ipython-input-1-513c33129ec4>\u001b[0m in \u001b[0;36m<module>\u001b[1;34m\u001b[0m\n\u001b[1;32m----> 1\u001b[1;33m \u001b[0msarsa\u001b[0m\u001b[1;33m.\u001b[0m\u001b[0mtest\u001b[0m\u001b[1;33m(\u001b[0m\u001b[0menv\u001b[0m\u001b[1;33m,\u001b[0m \u001b[0mnb_episodes\u001b[0m\u001b[1;33m=\u001b[0m\u001b[1;36m5\u001b[0m\u001b[1;33m,\u001b[0m \u001b[0mvisualize\u001b[0m\u001b[1;33m=\u001b[0m\u001b[1;32mTrue\u001b[0m\u001b[1;33m)\u001b[0m\u001b[1;33m\u001b[0m\u001b[1;33m\u001b[0m\u001b[0m\n\u001b[0m",
      "\u001b[1;31mNameError\u001b[0m: name 'sarsa' is not defined"
     ]
    }
   ],
   "source": [
    "sarsa.test(env, nb_episodes=5, visualize=True)"
   ]
  },
  {
   "cell_type": "code",
   "execution_count": 53,
   "metadata": {},
   "outputs": [],
   "source": [
    "env.close()"
   ]
  },
  {
   "cell_type": "code",
   "execution_count": null,
   "metadata": {},
   "outputs": [],
   "source": []
  }
 ],
 "metadata": {
  "kernelspec": {
   "display_name": "Python 3",
   "language": "python",
   "name": "python3"
  },
  "language_info": {
   "codemirror_mode": {
    "name": "ipython",
    "version": 3
   },
   "file_extension": ".py",
   "mimetype": "text/x-python",
   "name": "python",
   "nbconvert_exporter": "python",
   "pygments_lexer": "ipython3",
   "version": "3.7.4"
  }
 },
 "nbformat": 4,
 "nbformat_minor": 2
}
