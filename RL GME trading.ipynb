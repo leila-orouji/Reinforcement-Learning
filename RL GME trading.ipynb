{
 "cells": [
  {
   "cell_type": "markdown",
   "metadata": {},
   "source": [
    "# Install and import dependencies"
   ]
  },
  {
   "cell_type": "code",
   "execution_count": 2,
   "metadata": {},
   "outputs": [
    {
     "name": "stdout",
     "output_type": "stream",
     "text": [
      "Requirement already satisfied: tensorflow-gpu==1.15.0 in c:\\users\\leilaa\\appdata\\roaming\\python\\python37\\site-packages (1.15.0)\n",
      "Requirement already satisfied: tensorflow==1.15.0 in c:\\users\\leilaa\\appdata\\roaming\\python\\python37\\site-packages (1.15.0)\n",
      "Requirement already satisfied: stable-baselines in c:\\users\\leilaa\\appdata\\roaming\\python\\python37\\site-packages (2.10.2)\n",
      "Requirement already satisfied: gym-anytrading in c:\\users\\leilaa\\anaconda3\\lib\\site-packages (1.2.0)\n",
      "Requirement already satisfied: gym in c:\\users\\leilaa\\anaconda3\\lib\\site-packages (0.18.0)\n",
      "Requirement already satisfied: termcolor>=1.1.0 in c:\\users\\leilaa\\anaconda3\\lib\\site-packages (from tensorflow-gpu==1.15.0) (1.1.0)\n",
      "Requirement already satisfied: wrapt>=1.11.1 in c:\\users\\leilaa\\anaconda3\\lib\\site-packages (from tensorflow-gpu==1.15.0) (1.12.1)\n",
      "Requirement already satisfied: grpcio>=1.8.6 in c:\\users\\leilaa\\anaconda3\\lib\\site-packages (from tensorflow-gpu==1.15.0) (1.34.1)\n",
      "Requirement already satisfied: keras-applications>=1.0.8 in c:\\users\\leilaa\\appdata\\roaming\\python\\python37\\site-packages (from tensorflow-gpu==1.15.0) (1.0.8)\n",
      "Requirement already satisfied: google-pasta>=0.1.6 in c:\\users\\leilaa\\anaconda3\\lib\\site-packages (from tensorflow-gpu==1.15.0) (0.2.0)\n",
      "Requirement already satisfied: six>=1.10.0 in c:\\users\\leilaa\\anaconda3\\lib\\site-packages (from tensorflow-gpu==1.15.0) (1.15.0)\n",
      "Requirement already satisfied: opt-einsum>=2.3.2 in c:\\users\\leilaa\\anaconda3\\lib\\site-packages (from tensorflow-gpu==1.15.0) (3.3.0)\n",
      "Requirement already satisfied: tensorflow-estimator==1.15.1 in c:\\users\\leilaa\\anaconda3\\lib\\site-packages (from tensorflow-gpu==1.15.0) (1.15.1)\n",
      "Requirement already satisfied: wheel>=0.26 in c:\\users\\leilaa\\anaconda3\\lib\\site-packages (from tensorflow-gpu==1.15.0) (0.36.2)\n",
      "Requirement already satisfied: gast==0.2.2 in c:\\users\\leilaa\\anaconda3\\lib\\site-packages (from tensorflow-gpu==1.15.0) (0.2.2)\n",
      "Requirement already satisfied: absl-py>=0.7.0 in c:\\users\\leilaa\\anaconda3\\lib\\site-packages (from tensorflow-gpu==1.15.0) (0.13.0)\n",
      "Requirement already satisfied: protobuf>=3.6.1 in c:\\users\\leilaa\\anaconda3\\lib\\site-packages (from tensorflow-gpu==1.15.0) (3.17.3)\n",
      "Requirement already satisfied: numpy<2.0,>=1.16.0 in c:\\users\\leilaa\\anaconda3\\lib\\site-packages (from tensorflow-gpu==1.15.0) (1.18.5)\n",
      "Requirement already satisfied: astor>=0.6.0 in c:\\users\\leilaa\\appdata\\roaming\\python\\python37\\site-packages (from tensorflow-gpu==1.15.0) (0.8.1)\n",
      "Requirement already satisfied: keras-preprocessing>=1.0.5 in c:\\users\\leilaa\\anaconda3\\lib\\site-packages (from tensorflow-gpu==1.15.0) (1.1.2)\n",
      "Requirement already satisfied: tensorboard<1.16.0,>=1.15.0 in c:\\users\\leilaa\\anaconda3\\lib\\site-packages (from tensorflow-gpu==1.15.0) (1.15.0)\n",
      "Requirement already satisfied: pandas in c:\\users\\leilaa\\anaconda3\\lib\\site-packages (from stable-baselines) (0.25.1)\n",
      "Requirement already satisfied: scipy in c:\\users\\leilaa\\anaconda3\\lib\\site-packages (from stable-baselines) (1.4.1)\n",
      "Requirement already satisfied: joblib in c:\\users\\leilaa\\anaconda3\\lib\\site-packages (from stable-baselines) (0.13.2)\n",
      "Requirement already satisfied: opencv-python in c:\\users\\leilaa\\anaconda3\\lib\\site-packages (from stable-baselines) (4.5.2.54)\n",
      "Requirement already satisfied: matplotlib in c:\\users\\leilaa\\anaconda3\\lib\\site-packages (from stable-baselines) (3.1.1)\n",
      "Requirement already satisfied: cloudpickle>=0.5.5 in c:\\users\\leilaa\\anaconda3\\lib\\site-packages (from stable-baselines) (1.2.2)\n",
      "Requirement already satisfied: pyglet<=1.5.0,>=1.4.0 in c:\\users\\leilaa\\anaconda3\\lib\\site-packages (from gym) (1.5.0)\n",
      "Requirement already satisfied: Pillow<=7.2.0 in c:\\users\\leilaa\\anaconda3\\lib\\site-packages (from gym) (6.2.0)\n",
      "Requirement already satisfied: atari-py~=0.2.0 in c:\\users\\leilaa\\anaconda3\\lib\\site-packages (from gym) (0.2.9)\n",
      "Requirement already satisfied: h5py in c:\\users\\leilaa\\anaconda3\\lib\\site-packages (from keras-applications>=1.0.8->tensorflow-gpu==1.15.0) (2.10.0)\n",
      "Requirement already satisfied: cycler>=0.10 in c:\\users\\leilaa\\anaconda3\\lib\\site-packages (from matplotlib->stable-baselines) (0.10.0)\n",
      "Requirement already satisfied: kiwisolver>=1.0.1 in c:\\users\\leilaa\\anaconda3\\lib\\site-packages (from matplotlib->stable-baselines) (1.1.0)\n",
      "Requirement already satisfied: pyparsing!=2.0.4,!=2.1.2,!=2.1.6,>=2.0.1 in c:\\users\\leilaa\\anaconda3\\lib\\site-packages (from matplotlib->stable-baselines) (2.4.2)\n",
      "Requirement already satisfied: python-dateutil>=2.1 in c:\\users\\leilaa\\anaconda3\\lib\\site-packages (from matplotlib->stable-baselines) (2.8.0)\n",
      "Requirement already satisfied: setuptools in c:\\users\\leilaa\\anaconda3\\lib\\site-packages (from kiwisolver>=1.0.1->matplotlib->stable-baselines) (41.4.0)\n",
      "Requirement already satisfied: pytz>=2017.2 in c:\\users\\leilaa\\anaconda3\\lib\\site-packages (from pandas->stable-baselines) (2019.3)\n",
      "Requirement already satisfied: future in c:\\users\\leilaa\\anaconda3\\lib\\site-packages (from pyglet<=1.5.0,>=1.4.0->gym) (0.17.1)\n",
      "Requirement already satisfied: werkzeug>=0.11.15 in c:\\users\\leilaa\\anaconda3\\lib\\site-packages (from tensorboard<1.16.0,>=1.15.0->tensorflow-gpu==1.15.0) (0.16.0)\n",
      "Requirement already satisfied: markdown>=2.6.8 in c:\\users\\leilaa\\anaconda3\\lib\\site-packages (from tensorboard<1.16.0,>=1.15.0->tensorflow-gpu==1.15.0) (3.3.4)\n",
      "Requirement already satisfied: importlib-metadata in c:\\users\\leilaa\\anaconda3\\lib\\site-packages (from markdown>=2.6.8->tensorboard<1.16.0,>=1.15.0->tensorflow-gpu==1.15.0) (0.23)\n",
      "Requirement already satisfied: zipp>=0.5 in c:\\users\\leilaa\\anaconda3\\lib\\site-packages (from importlib-metadata->markdown>=2.6.8->tensorboard<1.16.0,>=1.15.0->tensorflow-gpu==1.15.0) (0.6.0)\n",
      "Requirement already satisfied: more-itertools in c:\\users\\leilaa\\anaconda3\\lib\\site-packages (from zipp>=0.5->importlib-metadata->markdown>=2.6.8->tensorboard<1.16.0,>=1.15.0->tensorflow-gpu==1.15.0) (7.2.0)\n"
     ]
    },
    {
     "name": "stderr",
     "output_type": "stream",
     "text": [
      "WARNING: Ignoring invalid distribution -cipy (c:\\users\\leilaa\\anaconda3\\lib\\site-packages)\n",
      "WARNING: Ignoring invalid distribution -cipy (c:\\users\\leilaa\\anaconda3\\lib\\site-packages)\n",
      "WARNING: Ignoring invalid distribution -cipy (c:\\users\\leilaa\\anaconda3\\lib\\site-packages)\n",
      "WARNING: Ignoring invalid distribution -cipy (c:\\users\\leilaa\\anaconda3\\lib\\site-packages)\n",
      "WARNING: Ignoring invalid distribution -cipy (c:\\users\\leilaa\\anaconda3\\lib\\site-packages)\n"
     ]
    }
   ],
   "source": [
    "!pip install tensorflow-gpu==1.15.0 tensorflow==1.15.0 stable-baselines gym-anytrading gym"
   ]
  },
  {
   "cell_type": "code",
   "execution_count": 4,
   "metadata": {},
   "outputs": [
    {
     "name": "stdout",
     "output_type": "stream",
     "text": [
      "WARNING:tensorflow:\n",
      "The TensorFlow contrib module will not be included in TensorFlow 2.0.\n",
      "For more information, please see:\n",
      "  * https://github.com/tensorflow/community/blob/master/rfcs/20180907-contrib-sunset.md\n",
      "  * https://github.com/tensorflow/addons\n",
      "  * https://github.com/tensorflow/io (for I/O related ops)\n",
      "If you depend on functionality not listed there, please file an issue.\n",
      "\n"
     ]
    },
    {
     "name": "stderr",
     "output_type": "stream",
     "text": [
      "C:\\Users\\leilaa\\AppData\\Roaming\\Python\\Python37\\site-packages\\stable_baselines\\__init__.py:33: UserWarning: stable-baselines is in maintenance mode, please use [Stable-Baselines3 (SB3)](https://github.com/DLR-RM/stable-baselines3) for an up-to-date version. You can find a [migration guide](https://stable-baselines3.readthedocs.io/en/master/guide/migration.html) in SB3 documentation.\n",
      "  \"stable-baselines is in maintenance mode, please use [Stable-Baselines3 (SB3)](https://github.com/DLR-RM/stable-baselines3) for an up-to-date version. You can find a [migration guide](https://stable-baselines3.readthedocs.io/en/master/guide/migration.html) in SB3 documentation.\"\n"
     ]
    }
   ],
   "source": [
    "#Gym stuff\n",
    "import gym\n",
    "import gym_anytrading\n",
    "\n",
    "#Stable_baselines\n",
    "from stable_baselines.common.vec_env import DummyVecEnv\n",
    "from stable_baselines import A2C\n",
    "\n",
    "#Processing libraries\n",
    "import numpy as np\n",
    "import pandas as pd\n",
    "from matplotlib import pyplot as plt"
   ]
  },
  {
   "cell_type": "markdown",
   "metadata": {},
   "source": [
    "# Bring in MArketWatch GME data\n",
    "https://www.marketwatch.com/investing/stock/gme/download-data?startDate=08/20/2018&endDate=08/20/2021"
   ]
  },
  {
   "cell_type": "code",
   "execution_count": 20,
   "metadata": {},
   "outputs": [],
   "source": [
    "df = pd.read_csv('gmedata.csv')"
   ]
  },
  {
   "cell_type": "code",
   "execution_count": 21,
   "metadata": {},
   "outputs": [
    {
     "data": {
      "text/html": [
       "<div>\n",
       "<style scoped>\n",
       "    .dataframe tbody tr th:only-of-type {\n",
       "        vertical-align: middle;\n",
       "    }\n",
       "\n",
       "    .dataframe tbody tr th {\n",
       "        vertical-align: top;\n",
       "    }\n",
       "\n",
       "    .dataframe thead th {\n",
       "        text-align: right;\n",
       "    }\n",
       "</style>\n",
       "<table border=\"1\" class=\"dataframe\">\n",
       "  <thead>\n",
       "    <tr style=\"text-align: right;\">\n",
       "      <th></th>\n",
       "      <th>Date</th>\n",
       "      <th>Open</th>\n",
       "      <th>High</th>\n",
       "      <th>Low</th>\n",
       "      <th>Close</th>\n",
       "      <th>Volume</th>\n",
       "    </tr>\n",
       "  </thead>\n",
       "  <tbody>\n",
       "    <tr>\n",
       "      <td>0</td>\n",
       "      <td>08/20/2021</td>\n",
       "      <td>153.80</td>\n",
       "      <td>160.09</td>\n",
       "      <td>153.24</td>\n",
       "      <td>159.30</td>\n",
       "      <td>1,154,858</td>\n",
       "    </tr>\n",
       "    <tr>\n",
       "      <td>1</td>\n",
       "      <td>08/19/2021</td>\n",
       "      <td>156.77</td>\n",
       "      <td>157.99</td>\n",
       "      <td>150.78</td>\n",
       "      <td>152.90</td>\n",
       "      <td>1,196,548</td>\n",
       "    </tr>\n",
       "    <tr>\n",
       "      <td>2</td>\n",
       "      <td>08/18/2021</td>\n",
       "      <td>163.25</td>\n",
       "      <td>165.60</td>\n",
       "      <td>156.75</td>\n",
       "      <td>157.05</td>\n",
       "      <td>1,411,842</td>\n",
       "    </tr>\n",
       "    <tr>\n",
       "      <td>3</td>\n",
       "      <td>08/17/2021</td>\n",
       "      <td>161.19</td>\n",
       "      <td>169.48</td>\n",
       "      <td>161.10</td>\n",
       "      <td>163.55</td>\n",
       "      <td>1,215,938</td>\n",
       "    </tr>\n",
       "    <tr>\n",
       "      <td>4</td>\n",
       "      <td>08/16/2021</td>\n",
       "      <td>161.00</td>\n",
       "      <td>169.88</td>\n",
       "      <td>159.16</td>\n",
       "      <td>163.93</td>\n",
       "      <td>1,574,877</td>\n",
       "    </tr>\n",
       "  </tbody>\n",
       "</table>\n",
       "</div>"
      ],
      "text/plain": [
       "         Date    Open    High     Low   Close     Volume\n",
       "0  08/20/2021  153.80  160.09  153.24  159.30  1,154,858\n",
       "1  08/19/2021  156.77  157.99  150.78  152.90  1,196,548\n",
       "2  08/18/2021  163.25  165.60  156.75  157.05  1,411,842\n",
       "3  08/17/2021  161.19  169.48  161.10  163.55  1,215,938\n",
       "4  08/16/2021  161.00  169.88  159.16  163.93  1,574,877"
      ]
     },
     "execution_count": 21,
     "metadata": {},
     "output_type": "execute_result"
    }
   ],
   "source": [
    "df.head()"
   ]
  },
  {
   "cell_type": "code",
   "execution_count": 22,
   "metadata": {},
   "outputs": [
    {
     "data": {
      "text/plain": [
       "Date       object\n",
       "Open      float64\n",
       "High      float64\n",
       "Low       float64\n",
       "Close     float64\n",
       "Volume     object\n",
       "dtype: object"
      ]
     },
     "execution_count": 22,
     "metadata": {},
     "output_type": "execute_result"
    }
   ],
   "source": [
    "df.dtypes"
   ]
  },
  {
   "cell_type": "code",
   "execution_count": 23,
   "metadata": {},
   "outputs": [
    {
     "data": {
      "text/plain": [
       "Date      datetime64[ns]\n",
       "Open             float64\n",
       "High             float64\n",
       "Low              float64\n",
       "Close            float64\n",
       "Volume            object\n",
       "dtype: object"
      ]
     },
     "execution_count": 23,
     "metadata": {},
     "output_type": "execute_result"
    }
   ],
   "source": [
    "df['Date'] = pd.to_datetime(df['Date'])\n",
    "df.dtypes"
   ]
  },
  {
   "cell_type": "code",
   "execution_count": 24,
   "metadata": {},
   "outputs": [
    {
     "data": {
      "text/html": [
       "<div>\n",
       "<style scoped>\n",
       "    .dataframe tbody tr th:only-of-type {\n",
       "        vertical-align: middle;\n",
       "    }\n",
       "\n",
       "    .dataframe tbody tr th {\n",
       "        vertical-align: top;\n",
       "    }\n",
       "\n",
       "    .dataframe thead th {\n",
       "        text-align: right;\n",
       "    }\n",
       "</style>\n",
       "<table border=\"1\" class=\"dataframe\">\n",
       "  <thead>\n",
       "    <tr style=\"text-align: right;\">\n",
       "      <th></th>\n",
       "      <th>Open</th>\n",
       "      <th>High</th>\n",
       "      <th>Low</th>\n",
       "      <th>Close</th>\n",
       "      <th>Volume</th>\n",
       "    </tr>\n",
       "    <tr>\n",
       "      <th>Date</th>\n",
       "      <th></th>\n",
       "      <th></th>\n",
       "      <th></th>\n",
       "      <th></th>\n",
       "      <th></th>\n",
       "    </tr>\n",
       "  </thead>\n",
       "  <tbody>\n",
       "    <tr>\n",
       "      <td>2021-08-20</td>\n",
       "      <td>153.80</td>\n",
       "      <td>160.09</td>\n",
       "      <td>153.24</td>\n",
       "      <td>159.30</td>\n",
       "      <td>1,154,858</td>\n",
       "    </tr>\n",
       "    <tr>\n",
       "      <td>2021-08-19</td>\n",
       "      <td>156.77</td>\n",
       "      <td>157.99</td>\n",
       "      <td>150.78</td>\n",
       "      <td>152.90</td>\n",
       "      <td>1,196,548</td>\n",
       "    </tr>\n",
       "    <tr>\n",
       "      <td>2021-08-18</td>\n",
       "      <td>163.25</td>\n",
       "      <td>165.60</td>\n",
       "      <td>156.75</td>\n",
       "      <td>157.05</td>\n",
       "      <td>1,411,842</td>\n",
       "    </tr>\n",
       "    <tr>\n",
       "      <td>2021-08-17</td>\n",
       "      <td>161.19</td>\n",
       "      <td>169.48</td>\n",
       "      <td>161.10</td>\n",
       "      <td>163.55</td>\n",
       "      <td>1,215,938</td>\n",
       "    </tr>\n",
       "    <tr>\n",
       "      <td>2021-08-16</td>\n",
       "      <td>161.00</td>\n",
       "      <td>169.88</td>\n",
       "      <td>159.16</td>\n",
       "      <td>163.93</td>\n",
       "      <td>1,574,877</td>\n",
       "    </tr>\n",
       "  </tbody>\n",
       "</table>\n",
       "</div>"
      ],
      "text/plain": [
       "              Open    High     Low   Close     Volume\n",
       "Date                                                 \n",
       "2021-08-20  153.80  160.09  153.24  159.30  1,154,858\n",
       "2021-08-19  156.77  157.99  150.78  152.90  1,196,548\n",
       "2021-08-18  163.25  165.60  156.75  157.05  1,411,842\n",
       "2021-08-17  161.19  169.48  161.10  163.55  1,215,938\n",
       "2021-08-16  161.00  169.88  159.16  163.93  1,574,877"
      ]
     },
     "execution_count": 24,
     "metadata": {},
     "output_type": "execute_result"
    }
   ],
   "source": [
    "df.set_index('Date', inplace=True)\n",
    "df.head()"
   ]
  },
  {
   "cell_type": "code",
   "execution_count": 35,
   "metadata": {},
   "outputs": [],
   "source": [
    "env = gym.make('stocks-v0', df=df, frame_bound=(5,100), window_size=5)\n",
    "# to set how portion of data we are gonna include in our algorithm, here we included the first 100 timesteps and are starting from the 10 top timesteps\n",
    "# The first argument of frame_bound should be equal or more than window_size  5>=5"
   ]
  },
  {
   "cell_type": "code",
   "execution_count": 36,
   "metadata": {},
   "outputs": [
    {
     "data": {
      "text/plain": [
       "array([159.3 , 152.9 , 157.05, 163.55, 163.93, 162.52, 162.35, 158.78,\n",
       "       159.05, 161.13, 151.77, 153.44, 146.8 , 152.75, 157.65, 161.12,\n",
       "       164.86, 169.12, 178.54, 183.94, 180.36, 178.85, 185.81, 191.18,\n",
       "       173.49, 169.04, 166.82, 167.62, 180.06, 189.25, 191.23, 191.38,\n",
       "       190.66, 199.56, 202.83, 204.36, 214.14, 210.88, 213.25, 209.51,\n",
       "       212.31, 219.34, 220.4 , 200.37, 213.82, 223.59, 222.97, 222.5 ,\n",
       "       229.44, 233.34, 220.39, 302.56, 300.  , 280.01, 248.36, 258.18,\n",
       "       282.24, 249.02, 222.  , 254.13, 242.56, 209.43, 180.01, 176.79,\n",
       "       170.49, 168.83, 180.67, 180.6 , 159.92, 164.5 , 144.79, 146.92,\n",
       "       143.22, 161.11, 161.01, 159.48, 160.73, 162.2 , 173.59, 176.19,\n",
       "       178.58, 177.77, 168.93, 151.18, 151.17, 158.51, 158.53, 164.37,\n",
       "       154.69, 156.44, 166.53, 140.99, 141.09, 158.36, 170.26, 177.97,\n",
       "       184.5 , 186.95, 191.45, 189.82])"
      ]
     },
     "execution_count": 36,
     "metadata": {},
     "output_type": "execute_result"
    }
   ],
   "source": [
    "# To look at the environment\n",
    "env.prices"
   ]
  },
  {
   "cell_type": "code",
   "execution_count": 37,
   "metadata": {},
   "outputs": [
    {
     "data": {
      "text/plain": [
       "array([[ 1.5930e+02,  0.0000e+00],\n",
       "       [ 1.5290e+02, -6.4000e+00],\n",
       "       [ 1.5705e+02,  4.1500e+00],\n",
       "       [ 1.6355e+02,  6.5000e+00],\n",
       "       [ 1.6393e+02,  3.8000e-01],\n",
       "       [ 1.6252e+02, -1.4100e+00],\n",
       "       [ 1.6235e+02, -1.7000e-01],\n",
       "       [ 1.5878e+02, -3.5700e+00],\n",
       "       [ 1.5905e+02,  2.7000e-01],\n",
       "       [ 1.6113e+02,  2.0800e+00],\n",
       "       [ 1.5177e+02, -9.3600e+00],\n",
       "       [ 1.5344e+02,  1.6700e+00],\n",
       "       [ 1.4680e+02, -6.6400e+00],\n",
       "       [ 1.5275e+02,  5.9500e+00],\n",
       "       [ 1.5765e+02,  4.9000e+00],\n",
       "       [ 1.6112e+02,  3.4700e+00],\n",
       "       [ 1.6486e+02,  3.7400e+00],\n",
       "       [ 1.6912e+02,  4.2600e+00],\n",
       "       [ 1.7854e+02,  9.4200e+00],\n",
       "       [ 1.8394e+02,  5.4000e+00],\n",
       "       [ 1.8036e+02, -3.5800e+00],\n",
       "       [ 1.7885e+02, -1.5100e+00],\n",
       "       [ 1.8581e+02,  6.9600e+00],\n",
       "       [ 1.9118e+02,  5.3700e+00],\n",
       "       [ 1.7349e+02, -1.7690e+01],\n",
       "       [ 1.6904e+02, -4.4500e+00],\n",
       "       [ 1.6682e+02, -2.2200e+00],\n",
       "       [ 1.6762e+02,  8.0000e-01],\n",
       "       [ 1.8006e+02,  1.2440e+01],\n",
       "       [ 1.8925e+02,  9.1900e+00],\n",
       "       [ 1.9123e+02,  1.9800e+00],\n",
       "       [ 1.9138e+02,  1.5000e-01],\n",
       "       [ 1.9066e+02, -7.2000e-01],\n",
       "       [ 1.9956e+02,  8.9000e+00],\n",
       "       [ 2.0283e+02,  3.2700e+00],\n",
       "       [ 2.0436e+02,  1.5300e+00],\n",
       "       [ 2.1414e+02,  9.7800e+00],\n",
       "       [ 2.1088e+02, -3.2600e+00],\n",
       "       [ 2.1325e+02,  2.3700e+00],\n",
       "       [ 2.0951e+02, -3.7400e+00],\n",
       "       [ 2.1231e+02,  2.8000e+00],\n",
       "       [ 2.1934e+02,  7.0300e+00],\n",
       "       [ 2.2040e+02,  1.0600e+00],\n",
       "       [ 2.0037e+02, -2.0030e+01],\n",
       "       [ 2.1382e+02,  1.3450e+01],\n",
       "       [ 2.2359e+02,  9.7700e+00],\n",
       "       [ 2.2297e+02, -6.2000e-01],\n",
       "       [ 2.2250e+02, -4.7000e-01],\n",
       "       [ 2.2944e+02,  6.9400e+00],\n",
       "       [ 2.3334e+02,  3.9000e+00],\n",
       "       [ 2.2039e+02, -1.2950e+01],\n",
       "       [ 3.0256e+02,  8.2170e+01],\n",
       "       [ 3.0000e+02, -2.5600e+00],\n",
       "       [ 2.8001e+02, -1.9990e+01],\n",
       "       [ 2.4836e+02, -3.1650e+01],\n",
       "       [ 2.5818e+02,  9.8200e+00],\n",
       "       [ 2.8224e+02,  2.4060e+01],\n",
       "       [ 2.4902e+02, -3.3220e+01],\n",
       "       [ 2.2200e+02, -2.7020e+01],\n",
       "       [ 2.5413e+02,  3.2130e+01],\n",
       "       [ 2.4256e+02, -1.1570e+01],\n",
       "       [ 2.0943e+02, -3.3130e+01],\n",
       "       [ 1.8001e+02, -2.9420e+01],\n",
       "       [ 1.7679e+02, -3.2200e+00],\n",
       "       [ 1.7049e+02, -6.3000e+00],\n",
       "       [ 1.6883e+02, -1.6600e+00],\n",
       "       [ 1.8067e+02,  1.1840e+01],\n",
       "       [ 1.8060e+02, -7.0000e-02],\n",
       "       [ 1.5992e+02, -2.0680e+01],\n",
       "       [ 1.6450e+02,  4.5800e+00],\n",
       "       [ 1.4479e+02, -1.9710e+01],\n",
       "       [ 1.4692e+02,  2.1300e+00],\n",
       "       [ 1.4322e+02, -3.7000e+00],\n",
       "       [ 1.6111e+02,  1.7890e+01],\n",
       "       [ 1.6101e+02, -1.0000e-01],\n",
       "       [ 1.5948e+02, -1.5300e+00],\n",
       "       [ 1.6073e+02,  1.2500e+00],\n",
       "       [ 1.6220e+02,  1.4700e+00],\n",
       "       [ 1.7359e+02,  1.1390e+01],\n",
       "       [ 1.7619e+02,  2.6000e+00],\n",
       "       [ 1.7858e+02,  2.3900e+00],\n",
       "       [ 1.7777e+02, -8.1000e-01],\n",
       "       [ 1.6893e+02, -8.8400e+00],\n",
       "       [ 1.5118e+02, -1.7750e+01],\n",
       "       [ 1.5117e+02, -1.0000e-02],\n",
       "       [ 1.5851e+02,  7.3400e+00],\n",
       "       [ 1.5853e+02,  2.0000e-02],\n",
       "       [ 1.6437e+02,  5.8400e+00],\n",
       "       [ 1.5469e+02, -9.6800e+00],\n",
       "       [ 1.5644e+02,  1.7500e+00],\n",
       "       [ 1.6653e+02,  1.0090e+01],\n",
       "       [ 1.4099e+02, -2.5540e+01],\n",
       "       [ 1.4109e+02,  1.0000e-01],\n",
       "       [ 1.5836e+02,  1.7270e+01],\n",
       "       [ 1.7026e+02,  1.1900e+01],\n",
       "       [ 1.7797e+02,  7.7100e+00],\n",
       "       [ 1.8450e+02,  6.5300e+00],\n",
       "       [ 1.8695e+02,  2.4500e+00],\n",
       "       [ 1.9145e+02,  4.5000e+00],\n",
       "       [ 1.8982e+02, -1.6300e+00]])"
      ]
     },
     "execution_count": 37,
     "metadata": {},
     "output_type": "execute_result"
    }
   ],
   "source": [
    "env.signal_features\n",
    "# [Price , change in price from the previews timwstep]"
   ]
  },
  {
   "cell_type": "markdown",
   "metadata": {},
   "source": [
    "# Build Environment"
   ]
  },
  {
   "cell_type": "code",
   "execution_count": 47,
   "metadata": {},
   "outputs": [
    {
     "data": {
      "text/plain": [
       "Discrete(2)"
      ]
     },
     "execution_count": 47,
     "metadata": {},
     "output_type": "execute_result"
    }
   ],
   "source": [
    "env.action_space\n",
    "# We have 2 diferent action: Buy and Sale"
   ]
  },
  {
   "cell_type": "code",
   "execution_count": 43,
   "metadata": {},
   "outputs": [
    {
     "name": "stdout",
     "output_type": "stream",
     "text": [
      "Info: {'total_reward': 81.36999999999998, 'total_profit': 1.0168901088140923, 'position': 1}\n"
     ]
    },
    {
     "data": {
      "image/png": "[encoded data removed]",
      "text/plain": [
       "<Figure size 1080x432 with 1 Axes>"
      ]
     },
     "metadata": {
      "needs_background": "light"
     },
     "output_type": "display_data"
    }
   ],
   "source": [
    "state = env.reset()\n",
    "score = 0\n",
    "while True:\n",
    "    action = env.action_space.sample()\n",
    "    n_state, reward, done, info = env.step(action)\n",
    "    if done:\n",
    "        print('Info:', info)\n",
    "        break\n",
    "plt.figure(figsize=(15,6))\n",
    "plt.cla()\n",
    "env.render_all()\n",
    "plt.show()"
   ]
  },
  {
   "cell_type": "markdown",
   "metadata": {},
   "source": [
    "# Build Environment and Train"
   ]
  },
  {
   "cell_type": "code",
   "execution_count": 50,
   "metadata": {},
   "outputs": [],
   "source": [
    "env_maker = lambda: gym.make('stocks-v0', df=df, frame_bound=(5,100), window_size=5)\n",
    "env = DummyVecEnv([env_maker])"
   ]
  },
  {
   "cell_type": "code",
   "execution_count": 55,
   "metadata": {},
   "outputs": [
    {
     "name": "stdout",
     "output_type": "stream",
     "text": [
      "---------------------------------\n",
      "| explained_variance | -0.239   |\n",
      "| fps                | 18       |\n",
      "| nupdates           | 1        |\n",
      "| policy_entropy     | 0.693    |\n",
      "| total_timesteps    | 5        |\n",
      "| value_loss         | 50.7     |\n",
      "---------------------------------\n",
      "---------------------------------\n",
      "| explained_variance | -89.6    |\n",
      "| fps                | 350      |\n",
      "| nupdates           | 100      |\n",
      "| policy_entropy     | 0.693    |\n",
      "| total_timesteps    | 500      |\n",
      "| value_loss         | 0.000226 |\n",
      "---------------------------------\n",
      "---------------------------------\n",
      "| explained_variance | -945     |\n",
      "| fps                | 404      |\n",
      "| nupdates           | 200      |\n",
      "| policy_entropy     | 0.692    |\n",
      "| total_timesteps    | 1000     |\n",
      "| value_loss         | 0.000512 |\n",
      "---------------------------------\n",
      "---------------------------------\n",
      "| explained_variance | -37.6    |\n",
      "| fps                | 427      |\n",
      "| nupdates           | 300      |\n",
      "| policy_entropy     | 0.693    |\n",
      "| total_timesteps    | 1500     |\n",
      "| value_loss         | 0.000216 |\n",
      "---------------------------------\n",
      "---------------------------------\n",
      "| explained_variance | -0.00279 |\n",
      "| fps                | 438      |\n",
      "| nupdates           | 400      |\n",
      "| policy_entropy     | 0.692    |\n",
      "| total_timesteps    | 2000     |\n",
      "| value_loss         | 49.4     |\n",
      "---------------------------------\n",
      "---------------------------------\n",
      "| explained_variance | 0.00828  |\n",
      "| fps                | 446      |\n",
      "| nupdates           | 500      |\n",
      "| policy_entropy     | 0.688    |\n",
      "| total_timesteps    | 2500     |\n",
      "| value_loss         | 16.7     |\n",
      "---------------------------------\n",
      "---------------------------------\n",
      "| explained_variance | 0.000239 |\n",
      "| fps                | 451      |\n",
      "| nupdates           | 600      |\n",
      "| policy_entropy     | 0.686    |\n",
      "| total_timesteps    | 3000     |\n",
      "| value_loss         | 78.9     |\n",
      "---------------------------------\n"
     ]
    },
    {
     "data": {
      "text/plain": [
       "<stable_baselines.a2c.a2c.A2C at 0x1a3bc4495c8>"
      ]
     },
     "execution_count": 55,
     "metadata": {},
     "output_type": "execute_result"
    }
   ],
   "source": [
    "model = A2C('MlpLstmPolicy', env=env, verbose=1)\n",
    "model.learn(total_timesteps=3000)"
   ]
  },
  {
   "cell_type": "markdown",
   "metadata": {},
   "source": [
    "# Evaluation"
   ]
  },
  {
   "cell_type": "code",
   "execution_count": 57,
   "metadata": {},
   "outputs": [
    {
     "name": "stdout",
     "output_type": "stream",
     "text": [
      "Info: {'total_reward': 21.360000000000014, 'total_profit': 1.053219494518457, 'position': 1}\n"
     ]
    }
   ],
   "source": [
    "env = gym.make('stocks-v0', df=df, frame_bound=(90,110), window_size=5)\n",
    "obs = env.reset()\n",
    "while True:\n",
    "    obs = obs[np.newaxis, ...]              #reshape the observation To be able to work with non-vectorized environment\n",
    "    action, _state =  model.predict(obs)\n",
    "    obs, reward, done, info = env.step(action)\n",
    "    if done:\n",
    "        print('Info:', info)\n",
    "        break"
   ]
  },
  {
   "cell_type": "code",
   "execution_count": 58,
   "metadata": {},
   "outputs": [
    {
     "data": {
      "image/png": "[encoded data removed]",
      "text/plain": [
       "<Figure size 1080x432 with 1 Axes>"
      ]
     },
     "metadata": {
      "needs_background": "light"
     },
     "output_type": "display_data"
    }
   ],
   "source": [
    "plt.figure(figsize=(15,6))\n",
    "plt.cla()\n",
    "env.render_all()\n",
    "plt.show()"
   ]
  },
  {
   "cell_type": "code",
   "execution_count": null,
   "metadata": {},
   "outputs": [],
   "source": []
  }
 ],
 "metadata": {
  "kernelspec": {
   "display_name": "Python 3",
   "language": "python",
   "name": "python3"
  },
  "language_info": {
   "codemirror_mode": {
    "name": "ipython",
    "version": 3
   },
   "file_extension": ".py",
   "mimetype": "text/x-python",
   "name": "python",
   "nbconvert_exporter": "python",
   "pygments_lexer": "ipython3",
   "version": "3.7.4"
  }
 },
 "nbformat": 4,
 "nbformat_minor": 2
}
